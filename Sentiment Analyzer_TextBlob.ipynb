{
 "cells": [
  {
   "cell_type": "code",
   "execution_count": 1,
   "id": "7c14b7b5-66c8-45c4-8eb3-9d4cf7a0e3fc",
   "metadata": {},
   "outputs": [],
   "source": [
    "import pandas as pd\n",
    "from textblob import TextBlob\n",
    "\n",
    "# Step 1: Load your CSV\n",
    "df = pd.read_csv(\"sample_food_feedback.csv\")\n",
    "\n",
    "# Step 2: Perform computation on each row\n",
    "# Let's say you want to analyze sentiment of a 'feedback' column\n",
    "def get_sentiment_label(text):\n",
    "    polarity = TextBlob(text).sentiment.polarity\n",
    "    if polarity > 0.1:\n",
    "        return \"Positive\"\n",
    "    elif polarity < -0.1:\n",
    "        return \"Negative\"\n",
    "    else:\n",
    "        return \"Neutral\"\n",
    "\n",
    "# Step 3: Create a new column with the output\n",
    "df['sentiment'] = df['feedback'].apply(get_sentiment_label)\n",
    "\n",
    "# Step 4: Save the updated DataFrame back to a CSV\n",
    "df.to_csv(\"sample_food_feedback_with_sentiment.csv\", index=False)"
   ]
  },
  {
   "cell_type": "code",
   "execution_count": null,
   "id": "d797503f-b928-46fe-9240-dbd8b6d805a3",
   "metadata": {},
   "outputs": [],
   "source": []
  }
 ],
 "metadata": {
  "kernelspec": {
   "display_name": "Python 3 (ipykernel)",
   "language": "python",
   "name": "python3"
  },
  "language_info": {
   "codemirror_mode": {
    "name": "ipython",
    "version": 3
   },
   "file_extension": ".py",
   "mimetype": "text/x-python",
   "name": "python",
   "nbconvert_exporter": "python",
   "pygments_lexer": "ipython3",
   "version": "3.13.3"
  }
 },
 "nbformat": 4,
 "nbformat_minor": 5
}
